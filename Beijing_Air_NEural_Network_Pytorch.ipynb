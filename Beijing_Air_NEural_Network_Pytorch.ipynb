{
  "nbformat": 4,
  "nbformat_minor": 0,
  "metadata": {
    "colab": {
      "provenance": [],
      "collapsed_sections": [
        "EkLTnIrA4yDh",
        "KCpk8qIA40b4",
        "O7FOouJC422i",
        "mtmtOx2L43cD",
        "xWAeDmM34384",
        "xVpXIfbW44js"
      ]
    },
    "kernelspec": {
      "name": "python3",
      "display_name": "Python 3"
    },
    "language_info": {
      "name": "python"
    }
  },
  "cells": [
    {
      "cell_type": "markdown",
      "source": [
        "# DSCI 619: Deep Learning\n",
        "\n",
        "## Project 7\n",
        "\n",
        "Symphony Hopkins"
      ],
      "metadata": {
        "id": "c60A9zJO33YG"
      }
    },
    {
      "cell_type": "markdown",
      "source": [
        "## Introduction\n",
        "\n",
        "We were given the Beijing Multi-Site Air Quality Datasets.\n",
        "\n",
        "Each dataset contains the following features:\n",
        "* No: row number\n",
        "* date: date of the observation in the format of year-month-day\n",
        "* hour: hour of data in this row\n",
        "* PM10: PM10 concentration (ug/m^3)\n",
        "* SO2: SO2 concentration (ug/m^3)\n",
        "* NO2: NO2 concentration (ug/m^3)\n",
        "* CO: CO concentration (ug/m^3)\n",
        "* O3: O3 concentration (ug/m^3)\n",
        "* TEMP: temperature (degree Celsius)\n",
        "* PRES: pressure (hPa)\n",
        "* DEWP: dew point temperature (degree Celsius)\n",
        "* RAIN: precipitation (mm)\n",
        "* wd: wind direction\n",
        "* WSPM: wind speed (m/s)\n",
        "\n",
        "Each dataset only contains one target:\n",
        "* PM2.5: PM2.5 concentration (ug/m^3)\n",
        "\n",
        "\n",
        "Our objective is to create an optimal deep learning model that can help us forecast the PM2.5.\n",
        "\n",
        "Data Source: [Beijing Multi-Site Air-Quality Data Data Set](https://archive.ics.uci.edu/ml/datasets/Beijing+Multi-Site+Air-Quality+Data)\n",
        "\n"
      ],
      "metadata": {
        "id": "PE6Xv0-o4CU5"
      }
    },
    {
      "cell_type": "markdown",
      "source": [
        "##1.Load the dataset, PRSA_Data.csv, into memory.\n"
      ],
      "metadata": {
        "id": "EkLTnIrA4yDh"
      }
    },
    {
      "cell_type": "markdown",
      "source": [
        "First, we will mount to Google Drive and import the necessary libraries to load the dataset."
      ],
      "metadata": {
        "id": "eueIv0BN5pD0"
      }
    },
    {
      "cell_type": "code",
      "source": [
        "#connecting to google drive\n",
        "from google.colab import drive \n",
        "drive.mount('/content/gdrive')"
      ],
      "metadata": {
        "colab": {
          "base_uri": "https://localhost:8080/"
        },
        "id": "u4tDRHVp5n9g",
        "outputId": "f2d76dbc-70b4-46e7-dba4-fa274d1b0679"
      },
      "execution_count": null,
      "outputs": [
        {
          "output_type": "stream",
          "name": "stdout",
          "text": [
            "Drive already mounted at /content/gdrive; to attempt to forcibly remount, call drive.mount(\"/content/gdrive\", force_remount=True).\n"
          ]
        }
      ]
    },
    {
      "cell_type": "code",
      "source": [
        "#importing libraries\n",
        "import pandas as pd\n",
        "import os\n",
        "import glob"
      ],
      "metadata": {
        "id": "coYNi8Y65ycE"
      },
      "execution_count": null,
      "outputs": []
    },
    {
      "cell_type": "markdown",
      "source": [
        "There are 12 sites in Beijing, each with their own dataset in the PRSA_Data folder. Because of this, we need to load each dataset and then combine them into a single dataframe."
      ],
      "metadata": {
        "id": "tjRMMl8A52IA"
      }
    },
    {
      "cell_type": "code",
      "source": [
        "# use glob to retrieve all 12 csv files in PRSA_Data Folder\n",
        "path = os.getcwd()\n",
        "csv_files = glob.glob(os.path.join('gdrive/My Drive/Colab Notebooks/Topic 2/PRSA_Data','*.csv'))\n",
        "  \n",
        "  \n",
        "# reading the csv files into dataframes and concatenating them into a single dataframe\n",
        "df = pd.concat([pd.read_csv(f) for f in csv_files ], ignore_index=True)\n",
        "\n",
        "#displaying df\n",
        "display(df.head())\n",
        "\n",
        "#checking dataframe information\n",
        "print(f'''\n",
        "Dataframe Shape: {df.shape}\n",
        "Number of Sites: {len(df['station'].unique())}\n",
        "Site Names: {df['station'].unique()}''')"
      ],
      "metadata": {
        "colab": {
          "base_uri": "https://localhost:8080/"
        },
        "id": "npvQKcw452-s",
        "outputId": "87a9e8b9-d48e-4ab6-e503-fa9613c256ff"
      },
      "execution_count": null,
      "outputs": [
        {
          "output_type": "display_data",
          "data": {
            "text/plain": [
              "   No  year  month  day  hour  PM2.5  PM10   SO2   NO2     CO    O3  TEMP  \\\n",
              "0   1  2013      3    1     0    4.0   4.0   4.0   7.0  300.0  77.0  -0.7   \n",
              "1   2  2013      3    1     1    8.0   8.0   4.0   7.0  300.0  77.0  -1.1   \n",
              "2   3  2013      3    1     2    7.0   7.0   5.0  10.0  300.0  73.0  -1.1   \n",
              "3   4  2013      3    1     3    6.0   6.0  11.0  11.0  300.0  72.0  -1.4   \n",
              "4   5  2013      3    1     4    3.0   3.0  12.0  12.0  300.0  72.0  -2.0   \n",
              "\n",
              "     PRES  DEWP  RAIN   wd  WSPM       station  \n",
              "0  1023.0 -18.8   0.0  NNW   4.4  Aotizhongxin  \n",
              "1  1023.2 -18.2   0.0    N   4.7  Aotizhongxin  \n",
              "2  1023.5 -18.2   0.0  NNW   5.6  Aotizhongxin  \n",
              "3  1024.5 -19.4   0.0   NW   3.1  Aotizhongxin  \n",
              "4  1025.2 -19.5   0.0    N   2.0  Aotizhongxin  "
            ],
            "text/html": [
              "\n",
              "  <div id=\"df-030a9d47-747a-4cad-83a7-29b4767d62fc\">\n",
              "    <div class=\"colab-df-container\">\n",
              "      <div>\n",
              "<style scoped>\n",
              "    .dataframe tbody tr th:only-of-type {\n",
              "        vertical-align: middle;\n",
              "    }\n",
              "\n",
              "    .dataframe tbody tr th {\n",
              "        vertical-align: top;\n",
              "    }\n",
              "\n",
              "    .dataframe thead th {\n",
              "        text-align: right;\n",
              "    }\n",
              "</style>\n",
              "<table border=\"1\" class=\"dataframe\">\n",
              "  <thead>\n",
              "    <tr style=\"text-align: right;\">\n",
              "      <th></th>\n",
              "      <th>No</th>\n",
              "      <th>year</th>\n",
              "      <th>month</th>\n",
              "      <th>day</th>\n",
              "      <th>hour</th>\n",
              "      <th>PM2.5</th>\n",
              "      <th>PM10</th>\n",
              "      <th>SO2</th>\n",
              "      <th>NO2</th>\n",
              "      <th>CO</th>\n",
              "      <th>O3</th>\n",
              "      <th>TEMP</th>\n",
              "      <th>PRES</th>\n",
              "      <th>DEWP</th>\n",
              "      <th>RAIN</th>\n",
              "      <th>wd</th>\n",
              "      <th>WSPM</th>\n",
              "      <th>station</th>\n",
              "    </tr>\n",
              "  </thead>\n",
              "  <tbody>\n",
              "    <tr>\n",
              "      <th>0</th>\n",
              "      <td>1</td>\n",
              "      <td>2013</td>\n",
              "      <td>3</td>\n",
              "      <td>1</td>\n",
              "      <td>0</td>\n",
              "      <td>4.0</td>\n",
              "      <td>4.0</td>\n",
              "      <td>4.0</td>\n",
              "      <td>7.0</td>\n",
              "      <td>300.0</td>\n",
              "      <td>77.0</td>\n",
              "      <td>-0.7</td>\n",
              "      <td>1023.0</td>\n",
              "      <td>-18.8</td>\n",
              "      <td>0.0</td>\n",
              "      <td>NNW</td>\n",
              "      <td>4.4</td>\n",
              "      <td>Aotizhongxin</td>\n",
              "    </tr>\n",
              "    <tr>\n",
              "      <th>1</th>\n",
              "      <td>2</td>\n",
              "      <td>2013</td>\n",
              "      <td>3</td>\n",
              "      <td>1</td>\n",
              "      <td>1</td>\n",
              "      <td>8.0</td>\n",
              "      <td>8.0</td>\n",
              "      <td>4.0</td>\n",
              "      <td>7.0</td>\n",
              "      <td>300.0</td>\n",
              "      <td>77.0</td>\n",
              "      <td>-1.1</td>\n",
              "      <td>1023.2</td>\n",
              "      <td>-18.2</td>\n",
              "      <td>0.0</td>\n",
              "      <td>N</td>\n",
              "      <td>4.7</td>\n",
              "      <td>Aotizhongxin</td>\n",
              "    </tr>\n",
              "    <tr>\n",
              "      <th>2</th>\n",
              "      <td>3</td>\n",
              "      <td>2013</td>\n",
              "      <td>3</td>\n",
              "      <td>1</td>\n",
              "      <td>2</td>\n",
              "      <td>7.0</td>\n",
              "      <td>7.0</td>\n",
              "      <td>5.0</td>\n",
              "      <td>10.0</td>\n",
              "      <td>300.0</td>\n",
              "      <td>73.0</td>\n",
              "      <td>-1.1</td>\n",
              "      <td>1023.5</td>\n",
              "      <td>-18.2</td>\n",
              "      <td>0.0</td>\n",
              "      <td>NNW</td>\n",
              "      <td>5.6</td>\n",
              "      <td>Aotizhongxin</td>\n",
              "    </tr>\n",
              "    <tr>\n",
              "      <th>3</th>\n",
              "      <td>4</td>\n",
              "      <td>2013</td>\n",
              "      <td>3</td>\n",
              "      <td>1</td>\n",
              "      <td>3</td>\n",
              "      <td>6.0</td>\n",
              "      <td>6.0</td>\n",
              "      <td>11.0</td>\n",
              "      <td>11.0</td>\n",
              "      <td>300.0</td>\n",
              "      <td>72.0</td>\n",
              "      <td>-1.4</td>\n",
              "      <td>1024.5</td>\n",
              "      <td>-19.4</td>\n",
              "      <td>0.0</td>\n",
              "      <td>NW</td>\n",
              "      <td>3.1</td>\n",
              "      <td>Aotizhongxin</td>\n",
              "    </tr>\n",
              "    <tr>\n",
              "      <th>4</th>\n",
              "      <td>5</td>\n",
              "      <td>2013</td>\n",
              "      <td>3</td>\n",
              "      <td>1</td>\n",
              "      <td>4</td>\n",
              "      <td>3.0</td>\n",
              "      <td>3.0</td>\n",
              "      <td>12.0</td>\n",
              "      <td>12.0</td>\n",
              "      <td>300.0</td>\n",
              "      <td>72.0</td>\n",
              "      <td>-2.0</td>\n",
              "      <td>1025.2</td>\n",
              "      <td>-19.5</td>\n",
              "      <td>0.0</td>\n",
              "      <td>N</td>\n",
              "      <td>2.0</td>\n",
              "      <td>Aotizhongxin</td>\n",
              "    </tr>\n",
              "  </tbody>\n",
              "</table>\n",
              "</div>\n",
              "      <button class=\"colab-df-convert\" onclick=\"convertToInteractive('df-030a9d47-747a-4cad-83a7-29b4767d62fc')\"\n",
              "              title=\"Convert this dataframe to an interactive table.\"\n",
              "              style=\"display:none;\">\n",
              "        \n",
              "  <svg xmlns=\"http://www.w3.org/2000/svg\" height=\"24px\"viewBox=\"0 0 24 24\"\n",
              "       width=\"24px\">\n",
              "    <path d=\"M0 0h24v24H0V0z\" fill=\"none\"/>\n",
              "    <path d=\"M18.56 5.44l.94 2.06.94-2.06 2.06-.94-2.06-.94-.94-2.06-.94 2.06-2.06.94zm-11 1L8.5 8.5l.94-2.06 2.06-.94-2.06-.94L8.5 2.5l-.94 2.06-2.06.94zm10 10l.94 2.06.94-2.06 2.06-.94-2.06-.94-.94-2.06-.94 2.06-2.06.94z\"/><path d=\"M17.41 7.96l-1.37-1.37c-.4-.4-.92-.59-1.43-.59-.52 0-1.04.2-1.43.59L10.3 9.45l-7.72 7.72c-.78.78-.78 2.05 0 2.83L4 21.41c.39.39.9.59 1.41.59.51 0 1.02-.2 1.41-.59l7.78-7.78 2.81-2.81c.8-.78.8-2.07 0-2.86zM5.41 20L4 18.59l7.72-7.72 1.47 1.35L5.41 20z\"/>\n",
              "  </svg>\n",
              "      </button>\n",
              "      \n",
              "  <style>\n",
              "    .colab-df-container {\n",
              "      display:flex;\n",
              "      flex-wrap:wrap;\n",
              "      gap: 12px;\n",
              "    }\n",
              "\n",
              "    .colab-df-convert {\n",
              "      background-color: #E8F0FE;\n",
              "      border: none;\n",
              "      border-radius: 50%;\n",
              "      cursor: pointer;\n",
              "      display: none;\n",
              "      fill: #1967D2;\n",
              "      height: 32px;\n",
              "      padding: 0 0 0 0;\n",
              "      width: 32px;\n",
              "    }\n",
              "\n",
              "    .colab-df-convert:hover {\n",
              "      background-color: #E2EBFA;\n",
              "      box-shadow: 0px 1px 2px rgba(60, 64, 67, 0.3), 0px 1px 3px 1px rgba(60, 64, 67, 0.15);\n",
              "      fill: #174EA6;\n",
              "    }\n",
              "\n",
              "    [theme=dark] .colab-df-convert {\n",
              "      background-color: #3B4455;\n",
              "      fill: #D2E3FC;\n",
              "    }\n",
              "\n",
              "    [theme=dark] .colab-df-convert:hover {\n",
              "      background-color: #434B5C;\n",
              "      box-shadow: 0px 1px 3px 1px rgba(0, 0, 0, 0.15);\n",
              "      filter: drop-shadow(0px 1px 2px rgba(0, 0, 0, 0.3));\n",
              "      fill: #FFFFFF;\n",
              "    }\n",
              "  </style>\n",
              "\n",
              "      <script>\n",
              "        const buttonEl =\n",
              "          document.querySelector('#df-030a9d47-747a-4cad-83a7-29b4767d62fc button.colab-df-convert');\n",
              "        buttonEl.style.display =\n",
              "          google.colab.kernel.accessAllowed ? 'block' : 'none';\n",
              "\n",
              "        async function convertToInteractive(key) {\n",
              "          const element = document.querySelector('#df-030a9d47-747a-4cad-83a7-29b4767d62fc');\n",
              "          const dataTable =\n",
              "            await google.colab.kernel.invokeFunction('convertToInteractive',\n",
              "                                                     [key], {});\n",
              "          if (!dataTable) return;\n",
              "\n",
              "          const docLinkHtml = 'Like what you see? Visit the ' +\n",
              "            '<a target=\"_blank\" href=https://colab.research.google.com/notebooks/data_table.ipynb>data table notebook</a>'\n",
              "            + ' to learn more about interactive tables.';\n",
              "          element.innerHTML = '';\n",
              "          dataTable['output_type'] = 'display_data';\n",
              "          await google.colab.output.renderOutput(dataTable, element);\n",
              "          const docLink = document.createElement('div');\n",
              "          docLink.innerHTML = docLinkHtml;\n",
              "          element.appendChild(docLink);\n",
              "        }\n",
              "      </script>\n",
              "    </div>\n",
              "  </div>\n",
              "  "
            ]
          },
          "metadata": {}
        },
        {
          "output_type": "stream",
          "name": "stdout",
          "text": [
            "\n",
            "Dataframe Shape: (420768, 18)\n",
            "Number of Sites: 12\n",
            "Site Names: ['Aotizhongxin' 'Changping' 'Dingling' 'Dongsi' 'Guanyuan' 'Gucheng'\n",
            " 'Huairou' 'Nongzhanguan' 'Shunyi' 'Tiantan' 'Wanliu' 'Wanshouxigong']\n"
          ]
        }
      ]
    },
    {
      "cell_type": "markdown",
      "source": [
        "##2.Clean the data and check missing values for this dataset.\n"
      ],
      "metadata": {
        "id": "KCpk8qIA40b4"
      }
    },
    {
      "cell_type": "markdown",
      "source": [
        "It's always good to check the data types in each column so let's do that first."
      ],
      "metadata": {
        "id": "1buPrZTH6r2z"
      }
    },
    {
      "cell_type": "code",
      "source": [
        "#checking data types\n",
        "df.dtypes"
      ],
      "metadata": {
        "colab": {
          "base_uri": "https://localhost:8080/"
        },
        "id": "RYZ6L5Bf6xs_",
        "outputId": "419b4186-68cb-4a62-90f0-621d8c899f49"
      },
      "execution_count": null,
      "outputs": [
        {
          "output_type": "execute_result",
          "data": {
            "text/plain": [
              "No           int64\n",
              "year         int64\n",
              "month        int64\n",
              "day          int64\n",
              "hour         int64\n",
              "PM2.5      float64\n",
              "PM10       float64\n",
              "SO2        float64\n",
              "NO2        float64\n",
              "CO         float64\n",
              "O3         float64\n",
              "TEMP       float64\n",
              "PRES       float64\n",
              "DEWP       float64\n",
              "RAIN       float64\n",
              "wd          object\n",
              "WSPM       float64\n",
              "station     object\n",
              "dtype: object"
            ]
          },
          "metadata": {},
          "execution_count": 4
        }
      ]
    },
    {
      "cell_type": "markdown",
      "source": [
        "Next, let's clean and check it for missing values."
      ],
      "metadata": {
        "id": "0lqIdHQr55u_"
      }
    },
    {
      "cell_type": "code",
      "source": [
        "#checking for missing values\n",
        "df.isnull().sum(axis = 0)"
      ],
      "metadata": {
        "colab": {
          "base_uri": "https://localhost:8080/"
        },
        "id": "PVggUNc857Nx",
        "outputId": "c680c1d2-8afd-45cf-a0f8-a761c2308ad3"
      },
      "execution_count": null,
      "outputs": [
        {
          "output_type": "execute_result",
          "data": {
            "text/plain": [
              "No             0\n",
              "year           0\n",
              "month          0\n",
              "day            0\n",
              "hour           0\n",
              "PM2.5       8739\n",
              "PM10        6449\n",
              "SO2         9021\n",
              "NO2        12116\n",
              "CO         20701\n",
              "O3         13277\n",
              "TEMP         398\n",
              "PRES         393\n",
              "DEWP         403\n",
              "RAIN         390\n",
              "wd          1822\n",
              "WSPM         318\n",
              "station        0\n",
              "dtype: int64"
            ]
          },
          "metadata": {},
          "execution_count": 5
        }
      ]
    },
    {
      "cell_type": "markdown",
      "source": [
        "Our target, PM2.5, contains null values. Since we are creating a model to forecast PM2.5 concentration levels, we will not impute the missing values. Instead, we will delete them."
      ],
      "metadata": {
        "id": "Uk6fVNLP6Egn"
      }
    },
    {
      "cell_type": "code",
      "source": [
        "#deleting rows with missing PM2.5 values\n",
        "df.dropna(axis=0, subset = ['PM2.5'], inplace = True)"
      ],
      "metadata": {
        "id": "hcV8xzS_6FeS"
      },
      "execution_count": null,
      "outputs": []
    },
    {
      "cell_type": "markdown",
      "source": [
        "Let's see if it worked."
      ],
      "metadata": {
        "id": "q3SJdM1D6IFN"
      }
    },
    {
      "cell_type": "code",
      "source": [
        "#checking for missing values\n",
        "df.isnull().sum(axis = 0)"
      ],
      "metadata": {
        "colab": {
          "base_uri": "https://localhost:8080/"
        },
        "id": "2Skp6hFw6PMs",
        "outputId": "61f165bc-956c-4f24-d3ed-11bf615fe342"
      },
      "execution_count": null,
      "outputs": [
        {
          "output_type": "execute_result",
          "data": {
            "text/plain": [
              "No             0\n",
              "year           0\n",
              "month          0\n",
              "day            0\n",
              "hour           0\n",
              "PM2.5          0\n",
              "PM10         216\n",
              "SO2         3698\n",
              "NO2         6747\n",
              "CO         15162\n",
              "O3          8145\n",
              "TEMP         398\n",
              "PRES         393\n",
              "DEWP         403\n",
              "RAIN         390\n",
              "wd          1797\n",
              "WSPM         317\n",
              "station        0\n",
              "dtype: int64"
            ]
          },
          "metadata": {},
          "execution_count": 7
        }
      ]
    },
    {
      "cell_type": "markdown",
      "source": [
        "To deal with the remaining missing data, we will convert the data types and perform imputation *in the next step.*"
      ],
      "metadata": {
        "id": "JMoyEtfL7Lu9"
      }
    },
    {
      "cell_type": "markdown",
      "source": [
        "##3.Convert all categorical variables to numerical values.\n"
      ],
      "metadata": {
        "id": "O7FOouJC422i"
      }
    },
    {
      "cell_type": "markdown",
      "source": [
        "We will use Multiple Imputation by Chained Reaction (MICE) to deal with the missing values in the other columns. Before we do this, we have to make the variables numerical. As we saw earlier when we checked the data types, *wd* and *station* are not numerical columns, so we must convert them in order to do MICE."
      ],
      "metadata": {
        "id": "bK1OX91U6VUF"
      }
    },
    {
      "cell_type": "code",
      "source": [
        "#converting station to numerical values\n",
        "cat_features = ['wd','station']\n",
        "factors = pd.get_dummies(df[cat_features],drop_first=True)\n",
        "\n",
        "#concatenating converted values to dataframe\n",
        "df = df.drop(cat_features,axis=1)\n",
        "df = pd.concat([df,factors],axis=1)\n",
        "df.head()"
      ],
      "metadata": {
        "colab": {
          "base_uri": "https://localhost:8080/"
        },
        "id": "8_1F5Cga7jQ5",
        "outputId": "46656595-aaac-4dac-9827-c9d8472fe7ae"
      },
      "execution_count": null,
      "outputs": [
        {
          "output_type": "execute_result",
          "data": {
            "text/plain": [
              "   No  year  month  day  hour  PM2.5  PM10   SO2   NO2     CO  ...  \\\n",
              "0   1  2013      3    1     0    4.0   4.0   4.0   7.0  300.0  ...   \n",
              "1   2  2013      3    1     1    8.0   8.0   4.0   7.0  300.0  ...   \n",
              "2   3  2013      3    1     2    7.0   7.0   5.0  10.0  300.0  ...   \n",
              "3   4  2013      3    1     3    6.0   6.0  11.0  11.0  300.0  ...   \n",
              "4   5  2013      3    1     4    3.0   3.0  12.0  12.0  300.0  ...   \n",
              "\n",
              "   station_Dingling  station_Dongsi  station_Guanyuan  station_Gucheng  \\\n",
              "0                 0               0                 0                0   \n",
              "1                 0               0                 0                0   \n",
              "2                 0               0                 0                0   \n",
              "3                 0               0                 0                0   \n",
              "4                 0               0                 0                0   \n",
              "\n",
              "   station_Huairou  station_Nongzhanguan  station_Shunyi  station_Tiantan  \\\n",
              "0                0                     0               0                0   \n",
              "1                0                     0               0                0   \n",
              "2                0                     0               0                0   \n",
              "3                0                     0               0                0   \n",
              "4                0                     0               0                0   \n",
              "\n",
              "   station_Wanliu  station_Wanshouxigong  \n",
              "0               0                      0  \n",
              "1               0                      0  \n",
              "2               0                      0  \n",
              "3               0                      0  \n",
              "4               0                      0  \n",
              "\n",
              "[5 rows x 42 columns]"
            ],
            "text/html": [
              "\n",
              "  <div id=\"df-fbeef3c7-3724-477a-8a48-3adcad1227f7\">\n",
              "    <div class=\"colab-df-container\">\n",
              "      <div>\n",
              "<style scoped>\n",
              "    .dataframe tbody tr th:only-of-type {\n",
              "        vertical-align: middle;\n",
              "    }\n",
              "\n",
              "    .dataframe tbody tr th {\n",
              "        vertical-align: top;\n",
              "    }\n",
              "\n",
              "    .dataframe thead th {\n",
              "        text-align: right;\n",
              "    }\n",
              "</style>\n",
              "<table border=\"1\" class=\"dataframe\">\n",
              "  <thead>\n",
              "    <tr style=\"text-align: right;\">\n",
              "      <th></th>\n",
              "      <th>No</th>\n",
              "      <th>year</th>\n",
              "      <th>month</th>\n",
              "      <th>day</th>\n",
              "      <th>hour</th>\n",
              "      <th>PM2.5</th>\n",
              "      <th>PM10</th>\n",
              "      <th>SO2</th>\n",
              "      <th>NO2</th>\n",
              "      <th>CO</th>\n",
              "      <th>...</th>\n",
              "      <th>station_Dingling</th>\n",
              "      <th>station_Dongsi</th>\n",
              "      <th>station_Guanyuan</th>\n",
              "      <th>station_Gucheng</th>\n",
              "      <th>station_Huairou</th>\n",
              "      <th>station_Nongzhanguan</th>\n",
              "      <th>station_Shunyi</th>\n",
              "      <th>station_Tiantan</th>\n",
              "      <th>station_Wanliu</th>\n",
              "      <th>station_Wanshouxigong</th>\n",
              "    </tr>\n",
              "  </thead>\n",
              "  <tbody>\n",
              "    <tr>\n",
              "      <th>0</th>\n",
              "      <td>1</td>\n",
              "      <td>2013</td>\n",
              "      <td>3</td>\n",
              "      <td>1</td>\n",
              "      <td>0</td>\n",
              "      <td>4.0</td>\n",
              "      <td>4.0</td>\n",
              "      <td>4.0</td>\n",
              "      <td>7.0</td>\n",
              "      <td>300.0</td>\n",
              "      <td>...</td>\n",
              "      <td>0</td>\n",
              "      <td>0</td>\n",
              "      <td>0</td>\n",
              "      <td>0</td>\n",
              "      <td>0</td>\n",
              "      <td>0</td>\n",
              "      <td>0</td>\n",
              "      <td>0</td>\n",
              "      <td>0</td>\n",
              "      <td>0</td>\n",
              "    </tr>\n",
              "    <tr>\n",
              "      <th>1</th>\n",
              "      <td>2</td>\n",
              "      <td>2013</td>\n",
              "      <td>3</td>\n",
              "      <td>1</td>\n",
              "      <td>1</td>\n",
              "      <td>8.0</td>\n",
              "      <td>8.0</td>\n",
              "      <td>4.0</td>\n",
              "      <td>7.0</td>\n",
              "      <td>300.0</td>\n",
              "      <td>...</td>\n",
              "      <td>0</td>\n",
              "      <td>0</td>\n",
              "      <td>0</td>\n",
              "      <td>0</td>\n",
              "      <td>0</td>\n",
              "      <td>0</td>\n",
              "      <td>0</td>\n",
              "      <td>0</td>\n",
              "      <td>0</td>\n",
              "      <td>0</td>\n",
              "    </tr>\n",
              "    <tr>\n",
              "      <th>2</th>\n",
              "      <td>3</td>\n",
              "      <td>2013</td>\n",
              "      <td>3</td>\n",
              "      <td>1</td>\n",
              "      <td>2</td>\n",
              "      <td>7.0</td>\n",
              "      <td>7.0</td>\n",
              "      <td>5.0</td>\n",
              "      <td>10.0</td>\n",
              "      <td>300.0</td>\n",
              "      <td>...</td>\n",
              "      <td>0</td>\n",
              "      <td>0</td>\n",
              "      <td>0</td>\n",
              "      <td>0</td>\n",
              "      <td>0</td>\n",
              "      <td>0</td>\n",
              "      <td>0</td>\n",
              "      <td>0</td>\n",
              "      <td>0</td>\n",
              "      <td>0</td>\n",
              "    </tr>\n",
              "    <tr>\n",
              "      <th>3</th>\n",
              "      <td>4</td>\n",
              "      <td>2013</td>\n",
              "      <td>3</td>\n",
              "      <td>1</td>\n",
              "      <td>3</td>\n",
              "      <td>6.0</td>\n",
              "      <td>6.0</td>\n",
              "      <td>11.0</td>\n",
              "      <td>11.0</td>\n",
              "      <td>300.0</td>\n",
              "      <td>...</td>\n",
              "      <td>0</td>\n",
              "      <td>0</td>\n",
              "      <td>0</td>\n",
              "      <td>0</td>\n",
              "      <td>0</td>\n",
              "      <td>0</td>\n",
              "      <td>0</td>\n",
              "      <td>0</td>\n",
              "      <td>0</td>\n",
              "      <td>0</td>\n",
              "    </tr>\n",
              "    <tr>\n",
              "      <th>4</th>\n",
              "      <td>5</td>\n",
              "      <td>2013</td>\n",
              "      <td>3</td>\n",
              "      <td>1</td>\n",
              "      <td>4</td>\n",
              "      <td>3.0</td>\n",
              "      <td>3.0</td>\n",
              "      <td>12.0</td>\n",
              "      <td>12.0</td>\n",
              "      <td>300.0</td>\n",
              "      <td>...</td>\n",
              "      <td>0</td>\n",
              "      <td>0</td>\n",
              "      <td>0</td>\n",
              "      <td>0</td>\n",
              "      <td>0</td>\n",
              "      <td>0</td>\n",
              "      <td>0</td>\n",
              "      <td>0</td>\n",
              "      <td>0</td>\n",
              "      <td>0</td>\n",
              "    </tr>\n",
              "  </tbody>\n",
              "</table>\n",
              "<p>5 rows × 42 columns</p>\n",
              "</div>\n",
              "      <button class=\"colab-df-convert\" onclick=\"convertToInteractive('df-fbeef3c7-3724-477a-8a48-3adcad1227f7')\"\n",
              "              title=\"Convert this dataframe to an interactive table.\"\n",
              "              style=\"display:none;\">\n",
              "        \n",
              "  <svg xmlns=\"http://www.w3.org/2000/svg\" height=\"24px\"viewBox=\"0 0 24 24\"\n",
              "       width=\"24px\">\n",
              "    <path d=\"M0 0h24v24H0V0z\" fill=\"none\"/>\n",
              "    <path d=\"M18.56 5.44l.94 2.06.94-2.06 2.06-.94-2.06-.94-.94-2.06-.94 2.06-2.06.94zm-11 1L8.5 8.5l.94-2.06 2.06-.94-2.06-.94L8.5 2.5l-.94 2.06-2.06.94zm10 10l.94 2.06.94-2.06 2.06-.94-2.06-.94-.94-2.06-.94 2.06-2.06.94z\"/><path d=\"M17.41 7.96l-1.37-1.37c-.4-.4-.92-.59-1.43-.59-.52 0-1.04.2-1.43.59L10.3 9.45l-7.72 7.72c-.78.78-.78 2.05 0 2.83L4 21.41c.39.39.9.59 1.41.59.51 0 1.02-.2 1.41-.59l7.78-7.78 2.81-2.81c.8-.78.8-2.07 0-2.86zM5.41 20L4 18.59l7.72-7.72 1.47 1.35L5.41 20z\"/>\n",
              "  </svg>\n",
              "      </button>\n",
              "      \n",
              "  <style>\n",
              "    .colab-df-container {\n",
              "      display:flex;\n",
              "      flex-wrap:wrap;\n",
              "      gap: 12px;\n",
              "    }\n",
              "\n",
              "    .colab-df-convert {\n",
              "      background-color: #E8F0FE;\n",
              "      border: none;\n",
              "      border-radius: 50%;\n",
              "      cursor: pointer;\n",
              "      display: none;\n",
              "      fill: #1967D2;\n",
              "      height: 32px;\n",
              "      padding: 0 0 0 0;\n",
              "      width: 32px;\n",
              "    }\n",
              "\n",
              "    .colab-df-convert:hover {\n",
              "      background-color: #E2EBFA;\n",
              "      box-shadow: 0px 1px 2px rgba(60, 64, 67, 0.3), 0px 1px 3px 1px rgba(60, 64, 67, 0.15);\n",
              "      fill: #174EA6;\n",
              "    }\n",
              "\n",
              "    [theme=dark] .colab-df-convert {\n",
              "      background-color: #3B4455;\n",
              "      fill: #D2E3FC;\n",
              "    }\n",
              "\n",
              "    [theme=dark] .colab-df-convert:hover {\n",
              "      background-color: #434B5C;\n",
              "      box-shadow: 0px 1px 3px 1px rgba(0, 0, 0, 0.15);\n",
              "      filter: drop-shadow(0px 1px 2px rgba(0, 0, 0, 0.3));\n",
              "      fill: #FFFFFF;\n",
              "    }\n",
              "  </style>\n",
              "\n",
              "      <script>\n",
              "        const buttonEl =\n",
              "          document.querySelector('#df-fbeef3c7-3724-477a-8a48-3adcad1227f7 button.colab-df-convert');\n",
              "        buttonEl.style.display =\n",
              "          google.colab.kernel.accessAllowed ? 'block' : 'none';\n",
              "\n",
              "        async function convertToInteractive(key) {\n",
              "          const element = document.querySelector('#df-fbeef3c7-3724-477a-8a48-3adcad1227f7');\n",
              "          const dataTable =\n",
              "            await google.colab.kernel.invokeFunction('convertToInteractive',\n",
              "                                                     [key], {});\n",
              "          if (!dataTable) return;\n",
              "\n",
              "          const docLinkHtml = 'Like what you see? Visit the ' +\n",
              "            '<a target=\"_blank\" href=https://colab.research.google.com/notebooks/data_table.ipynb>data table notebook</a>'\n",
              "            + ' to learn more about interactive tables.';\n",
              "          element.innerHTML = '';\n",
              "          dataTable['output_type'] = 'display_data';\n",
              "          await google.colab.output.renderOutput(dataTable, element);\n",
              "          const docLink = document.createElement('div');\n",
              "          docLink.innerHTML = docLinkHtml;\n",
              "          element.appendChild(docLink);\n",
              "        }\n",
              "      </script>\n",
              "    </div>\n",
              "  </div>\n",
              "  "
            ]
          },
          "metadata": {},
          "execution_count": 8
        }
      ]
    },
    {
      "cell_type": "markdown",
      "source": [
        "Let's check the dataframe to see if all of the columns are numerical."
      ],
      "metadata": {
        "id": "08OIk2n37wvo"
      }
    },
    {
      "cell_type": "code",
      "source": [
        "df.dtypes"
      ],
      "metadata": {
        "colab": {
          "base_uri": "https://localhost:8080/"
        },
        "id": "GcCDh3bi70w8",
        "outputId": "68f45cc7-267f-40d8-8d3e-3b6773944d58"
      },
      "execution_count": null,
      "outputs": [
        {
          "output_type": "execute_result",
          "data": {
            "text/plain": [
              "No                         int64\n",
              "year                       int64\n",
              "month                      int64\n",
              "day                        int64\n",
              "hour                       int64\n",
              "PM2.5                    float64\n",
              "PM10                     float64\n",
              "SO2                      float64\n",
              "NO2                      float64\n",
              "CO                       float64\n",
              "O3                       float64\n",
              "TEMP                     float64\n",
              "PRES                     float64\n",
              "DEWP                     float64\n",
              "RAIN                     float64\n",
              "WSPM                     float64\n",
              "wd_ENE                     uint8\n",
              "wd_ESE                     uint8\n",
              "wd_N                       uint8\n",
              "wd_NE                      uint8\n",
              "wd_NNE                     uint8\n",
              "wd_NNW                     uint8\n",
              "wd_NW                      uint8\n",
              "wd_S                       uint8\n",
              "wd_SE                      uint8\n",
              "wd_SSE                     uint8\n",
              "wd_SSW                     uint8\n",
              "wd_SW                      uint8\n",
              "wd_W                       uint8\n",
              "wd_WNW                     uint8\n",
              "wd_WSW                     uint8\n",
              "station_Changping          uint8\n",
              "station_Dingling           uint8\n",
              "station_Dongsi             uint8\n",
              "station_Guanyuan           uint8\n",
              "station_Gucheng            uint8\n",
              "station_Huairou            uint8\n",
              "station_Nongzhanguan       uint8\n",
              "station_Shunyi             uint8\n",
              "station_Tiantan            uint8\n",
              "station_Wanliu             uint8\n",
              "station_Wanshouxigong      uint8\n",
              "dtype: object"
            ]
          },
          "metadata": {},
          "execution_count": 9
        }
      ]
    },
    {
      "cell_type": "markdown",
      "source": [
        "Now that we have confirmed all of the columns are numerical, we can finally impute the missing values."
      ],
      "metadata": {
        "id": "J1wDBZxl71eQ"
      }
    },
    {
      "cell_type": "code",
      "source": [
        "#importing libraries\n",
        "from sklearn.experimental import enable_iterative_imputer\n",
        "from sklearn.impute import IterativeImputer"
      ],
      "metadata": {
        "id": "SDlp_EH38Grz"
      },
      "execution_count": null,
      "outputs": []
    },
    {
      "cell_type": "code",
      "source": [
        "%%time\n",
        "#initializing imputer; we set max_iter=20 so we can reach convergence\n",
        "mice_imputer = IterativeImputer(max_iter=20)\n",
        "\n",
        "#imputing values\n",
        "df.iloc[:, :] = mice_imputer.fit_transform(df)"
      ],
      "metadata": {
        "id": "7eivfPY28JEY",
        "colab": {
          "base_uri": "https://localhost:8080/"
        },
        "outputId": "ac9a252e-574f-4eab-b65b-74d11be642d7"
      },
      "execution_count": null,
      "outputs": [
        {
          "output_type": "stream",
          "name": "stdout",
          "text": [
            "CPU times: user 12min 49s, sys: 2min 29s, total: 15min 18s\n",
            "Wall time: 10min 40s\n"
          ]
        }
      ]
    },
    {
      "cell_type": "markdown",
      "source": [
        "Let's check to see if the values were imputed."
      ],
      "metadata": {
        "id": "wOjYLItd8Myb"
      }
    },
    {
      "cell_type": "code",
      "source": [
        "#checking for missing values; there shouldn't be any missing values\n",
        "df.isnull().sum(axis = 0)"
      ],
      "metadata": {
        "id": "B43SvIhU8NPE",
        "colab": {
          "base_uri": "https://localhost:8080/"
        },
        "outputId": "823b427e-99f0-4e62-804f-27bc35020862"
      },
      "execution_count": null,
      "outputs": [
        {
          "output_type": "execute_result",
          "data": {
            "text/plain": [
              "No                       0\n",
              "year                     0\n",
              "month                    0\n",
              "day                      0\n",
              "hour                     0\n",
              "PM2.5                    0\n",
              "PM10                     0\n",
              "SO2                      0\n",
              "NO2                      0\n",
              "CO                       0\n",
              "O3                       0\n",
              "TEMP                     0\n",
              "PRES                     0\n",
              "DEWP                     0\n",
              "RAIN                     0\n",
              "WSPM                     0\n",
              "wd_ENE                   0\n",
              "wd_ESE                   0\n",
              "wd_N                     0\n",
              "wd_NE                    0\n",
              "wd_NNE                   0\n",
              "wd_NNW                   0\n",
              "wd_NW                    0\n",
              "wd_S                     0\n",
              "wd_SE                    0\n",
              "wd_SSE                   0\n",
              "wd_SSW                   0\n",
              "wd_SW                    0\n",
              "wd_W                     0\n",
              "wd_WNW                   0\n",
              "wd_WSW                   0\n",
              "station_Changping        0\n",
              "station_Dingling         0\n",
              "station_Dongsi           0\n",
              "station_Guanyuan         0\n",
              "station_Gucheng          0\n",
              "station_Huairou          0\n",
              "station_Nongzhanguan     0\n",
              "station_Shunyi           0\n",
              "station_Tiantan          0\n",
              "station_Wanliu           0\n",
              "station_Wanshouxigong    0\n",
              "dtype: int64"
            ]
          },
          "metadata": {},
          "execution_count": 12
        }
      ]
    },
    {
      "cell_type": "markdown",
      "source": [
        "At this point, we have successfully...\n",
        "+ cleaned the data\n",
        "+ imputed missing data\n",
        "+  converted the columns to numerical data types"
      ],
      "metadata": {
        "id": "Gc_-E8Mq8eqa"
      }
    },
    {
      "cell_type": "markdown",
      "source": [
        "##4.Perform feature engineering on the date feature.\n"
      ],
      "metadata": {
        "id": "mtmtOx2L43cD"
      }
    },
    {
      "cell_type": "code",
      "source": [
        "#checking data types\n",
        "df.dtypes"
      ],
      "metadata": {
        "id": "IfMtziLN9CXU",
        "colab": {
          "base_uri": "https://localhost:8080/"
        },
        "outputId": "c4e3ad16-8240-4c41-b7bf-e86e8128a25c"
      },
      "execution_count": null,
      "outputs": [
        {
          "output_type": "execute_result",
          "data": {
            "text/plain": [
              "No                       float64\n",
              "year                     float64\n",
              "month                    float64\n",
              "day                      float64\n",
              "hour                     float64\n",
              "PM2.5                    float64\n",
              "PM10                     float64\n",
              "SO2                      float64\n",
              "NO2                      float64\n",
              "CO                       float64\n",
              "O3                       float64\n",
              "TEMP                     float64\n",
              "PRES                     float64\n",
              "DEWP                     float64\n",
              "RAIN                     float64\n",
              "WSPM                     float64\n",
              "wd_ENE                   float64\n",
              "wd_ESE                   float64\n",
              "wd_N                     float64\n",
              "wd_NE                    float64\n",
              "wd_NNE                   float64\n",
              "wd_NNW                   float64\n",
              "wd_NW                    float64\n",
              "wd_S                     float64\n",
              "wd_SE                    float64\n",
              "wd_SSE                   float64\n",
              "wd_SSW                   float64\n",
              "wd_SW                    float64\n",
              "wd_W                     float64\n",
              "wd_WNW                   float64\n",
              "wd_WSW                   float64\n",
              "station_Changping        float64\n",
              "station_Dingling         float64\n",
              "station_Dongsi           float64\n",
              "station_Guanyuan         float64\n",
              "station_Gucheng          float64\n",
              "station_Huairou          float64\n",
              "station_Nongzhanguan     float64\n",
              "station_Shunyi           float64\n",
              "station_Tiantan          float64\n",
              "station_Wanliu           float64\n",
              "station_Wanshouxigong    float64\n",
              "dtype: object"
            ]
          },
          "metadata": {},
          "execution_count": 13
        }
      ]
    },
    {
      "cell_type": "markdown",
      "source": [
        "Because the date columns (*year, month, day, hour*) are already in numeric format, we do not need to perform feature engineering."
      ],
      "metadata": {
        "id": "Fw1Gc6r18-ji"
      }
    },
    {
      "cell_type": "markdown",
      "source": [
        "##5.Split the data into 80% of training and 20% of the test dataset.\n"
      ],
      "metadata": {
        "id": "xWAeDmM34384"
      }
    },
    {
      "cell_type": "markdown",
      "source": [
        "Now, we will now split the data into training and test datasets with 80% going into the training dataset and 20% going into the test dataset. \n"
      ],
      "metadata": {
        "id": "jNjSlfiu9fXz"
      }
    },
    {
      "cell_type": "code",
      "source": [
        "#assigning variables\n",
        "X = df.drop('PM2.5',axis=1)\n",
        "y = df['PM2.5']\n",
        "\n",
        "#splitting data\n",
        "from sklearn.model_selection import train_test_split\n",
        "X_train, X_test, y_train, y_test = train_test_split(X, y, test_size=0.2, random_state = 2021)"
      ],
      "metadata": {
        "id": "Ss55X9Zl9fyn"
      },
      "execution_count": null,
      "outputs": []
    },
    {
      "cell_type": "markdown",
      "source": [
        "##6.Preprocess the data using the normalization method to convert all features into the range of [0,1]\n"
      ],
      "metadata": {
        "id": "xVpXIfbW44js"
      }
    },
    {
      "cell_type": "markdown",
      "source": [
        "Next, we will normalize the data to convert all of the featues into the range of [0,1]."
      ],
      "metadata": {
        "id": "M5aHOqtE9mIm"
      }
    },
    {
      "cell_type": "code",
      "source": [
        "#importing library\n",
        "from sklearn.preprocessing import MinMaxScaler\n",
        "\n",
        "#creating a scaler so we can transform the data to fit within the range of [0,1]\n",
        "scaler = MinMaxScaler()\n",
        "\n",
        "#normalizing the data\n",
        "X_train= scaler.fit_transform(X_train)\n",
        "X_test = scaler.transform(X_test)"
      ],
      "metadata": {
        "id": "lWKeNBMP9o6u"
      },
      "execution_count": null,
      "outputs": []
    },
    {
      "cell_type": "markdown",
      "source": [
        "##7.Build a neuron network with two hidden layers of 20 and 10 neurons to forecast PM2.5 using all other features and PyTorch. Does it overfit or underfit the data? Please justify your answer."
      ],
      "metadata": {
        "id": "nvple6Y7441Y"
      }
    },
    {
      "cell_type": "markdown",
      "source": [
        "After cleaning and preparing the data, we can finally build the neural network with the following layers  using PyTorch:\n",
        "* First Hidden Layer: 20 Neurons\n",
        "* Second Hidden Layer: 10 Neurons\n",
        "* Output Layer: 1 Neuron\n",
        "\n",
        "To start, we need to convert the numpy arrays to a PyTorch Tensor."
      ],
      "metadata": {
        "id": "WBTLgnTU91hO"
      }
    },
    {
      "cell_type": "code",
      "source": [
        "#importing libraries\n",
        "import torch\n",
        "import torch.nn as nn\n",
        "import torch.nn.functional as F\n",
        "import numpy as np"
      ],
      "metadata": {
        "id": "cSnOnAZH-jeP"
      },
      "execution_count": null,
      "outputs": []
    },
    {
      "cell_type": "code",
      "source": [
        "#converting numpy arrays to PyTorch Tensor\n",
        "X_train = torch.tensor(X_train.astype(np.float32))\n",
        "X_test = torch.from_numpy(X_test.astype(np.float32))\n",
        "y_train = torch.tensor(y_train.values.astype(np.float32).reshape(-1,1))\n",
        "\n",
        "#checking shape of arrays\n",
        "print(f'''X_train Shape: {X_train.shape}\n",
        "X_test Shape: {X_test.shape}\n",
        "y_train Shape: {y_train.shape}''')"
      ],
      "metadata": {
        "id": "OlmIETkI-nZk",
        "colab": {
          "base_uri": "https://localhost:8080/"
        },
        "outputId": "264f2dcf-6359-434a-f344-c1b558062454"
      },
      "execution_count": null,
      "outputs": [
        {
          "output_type": "stream",
          "name": "stdout",
          "text": [
            "X_train Shape: torch.Size([329623, 41])\n",
            "X_test Shape: torch.Size([82406, 41])\n",
            "y_train Shape: torch.Size([329623, 1])\n"
          ]
        }
      ]
    },
    {
      "cell_type": "markdown",
      "source": [
        "Next, we will specify the number of features, targets and neurons, and store them in variables to be used later in the model."
      ],
      "metadata": {
        "id": "4KesHKV5_ikx"
      }
    },
    {
      "cell_type": "code",
      "source": [
        "#speciying the number of features and targets\n",
        "input_size = X_train.shape[1]\n",
        "output_size = y_train.shape[1] # since this is a regression problem, we will only have 1 output\n",
        "#specifying the number of neurons in each layer\n",
        "hidden_size = [20, 10]\n",
        "\n",
        "#printing input size, output size, and # of neurons in hidden layers\n",
        "print(f'''Input Size: {input_size}\n",
        "Number of Output Size: {output_size}\n",
        "Number of Neurons in Each Hidden Layer : {hidden_size}''')"
      ],
      "metadata": {
        "id": "PFgSTuZMA2rX",
        "colab": {
          "base_uri": "https://localhost:8080/"
        },
        "outputId": "cdebe1ed-0aba-43cb-9d37-1792ad297bee"
      },
      "execution_count": null,
      "outputs": [
        {
          "output_type": "stream",
          "name": "stdout",
          "text": [
            "Input Size: 41\n",
            "Number of Output Size: 1\n",
            "Number of Neurons in Each Hidden Layer : [20, 10]\n"
          ]
        }
      ]
    },
    {
      "cell_type": "markdown",
      "source": [
        "PyTorch is an object oriented program, so we have to define a model class from the parent class of torch.nn.Module."
      ],
      "metadata": {
        "id": "7Aeu0lqzPIE2"
      }
    },
    {
      "cell_type": "code",
      "source": [
        "#defining the model class that inherits from the torch.nn.Module class\n",
        "class LinearRegressionModel(torch.nn.Module):\n",
        "  #creating the neural network layers function\n",
        "  def __init__(self, input_size,  hidden_size, output_size):\n",
        "    #initializing the model\n",
        "    super(LinearRegressionModel, self).__init__()\n",
        "    #creating first hidden layer\n",
        "    self.hidden1 = torch.nn.Linear(input_size, hidden_size[0]) \n",
        "    #creating second hidden layer\n",
        "    self.hidden2 = torch.nn.Linear(hidden_size[0], hidden_size[1]) \n",
        "    #creating output layer\n",
        "    self.predict = torch.nn.Linear(hidden_size[1], output_size) \n",
        "  #creating the forward pass function\n",
        "  def forward(self, x):\n",
        "    x = F.relu(self.hidden1(x))  \n",
        "    x = F.relu(self.hidden2(x))\n",
        "    y_pred = self.predict(x)            \n",
        "    return y_pred"
      ],
      "metadata": {
        "id": "JUyfC2ioP2sf"
      },
      "execution_count": null,
      "outputs": []
    },
    {
      "cell_type": "markdown",
      "source": [
        "Now that we have defined our model class, we need to create a model object. We also need to specify the loss function (which will be mean squared error in this case), and specify the optimization algorithm."
      ],
      "metadata": {
        "id": "T-r9Z36TRLFg"
      }
    },
    {
      "cell_type": "code",
      "source": [
        "#creating model object\n",
        "model = LinearRegressionModel(input_size, hidden_size, output_size)\n",
        "\n",
        "#specifying the loss function -- MSE\n",
        "l = nn.MSELoss()\n",
        "\n",
        "#specifying the optimization algorithm -- Adam\n",
        "optimizer = torch.optim.Adam(model.parameters(), lr=0.05)"
      ],
      "metadata": {
        "id": "9TmYG8xfRRIc"
      },
      "execution_count": null,
      "outputs": []
    },
    {
      "cell_type": "markdown",
      "source": [
        "Next, we need to write a for loop to train our model."
      ],
      "metadata": {
        "id": "_wwFPCzsR1H8"
      }
    },
    {
      "cell_type": "code",
      "source": [
        "%%time\n",
        "#importing library\n",
        "from sklearn.metrics import mean_squared_error\n",
        "\n",
        "#fixing the seed to make the results reproducible\n",
        "torch.manual_seed(1)\n",
        "np.random.seed(0)\n",
        "\n",
        "#setting the number of epochs\n",
        "num_epochs = 500\n",
        "\n",
        "#tracking the training and validation loss\n",
        "train_loss = [None]*num_epochs\n",
        "valadition_loss = [None]*num_epochs\n",
        "\n",
        "#looping over the epochs\n",
        "for epoch in range(num_epochs):\n",
        "  #forward pass using the model class we created earlier and the training dataset\n",
        "  y_pred = model(X_train.requires_grad_())\n",
        "  #calculating the loss \n",
        "  loss= l(y_pred, y_train)\n",
        "  #setting the gradients of the Adam optimizer to equal zero\n",
        "  optimizer.zero_grad()\n",
        "  #backward pass\n",
        "  loss.backward()\n",
        "  #updating the weights using the optimizer, gradients, and current weights\n",
        "  optimizer.step()\n",
        "  #forecasting based on X_test\n",
        "  y_pred = model(X_test).detach().numpy()\n",
        "  #calculating validation loss using MSE\n",
        "  val_loss = mean_squared_error(y_test,y_pred)\n",
        "  #saving the loss history\n",
        "  train_loss[epoch] = loss.item()\n",
        "  valadition_loss[epoch] = val_loss\n",
        "  #printing out loss every 10 losses\n",
        "  if epoch % 10 == 0:\n",
        "    print(f'epoch {epoch}, loss = {round(loss.item(), 4)} and val_loss = {round(val_loss,4)}')\n",
        "\n"
      ],
      "metadata": {
        "colab": {
          "base_uri": "https://localhost:8080/"
        },
        "id": "1JJqeuhwTfXn",
        "outputId": "b843ccdc-60ca-4f56-d5a6-77094c15fe78"
      },
      "execution_count": null,
      "outputs": [
        {
          "output_type": "stream",
          "name": "stdout",
          "text": [
            "epoch 0, loss = 12913.2949 and val_loss = 12743.2827\n",
            "epoch 10, loss = 6307.1113 and val_loss = 6938.1549\n",
            "epoch 20, loss = 6227.3784 and val_loss = 6197.4163\n",
            "epoch 30, loss = 5329.8345 and val_loss = 5248.66\n",
            "epoch 40, loss = 4387.9766 and val_loss = 4241.5161\n",
            "epoch 50, loss = 3055.7107 and val_loss = 2921.4239\n",
            "epoch 60, loss = 1770.6467 and val_loss = 1712.0047\n",
            "epoch 70, loss = 1513.0476 and val_loss = 1506.1776\n",
            "epoch 80, loss = 1258.2648 and val_loss = 1260.1026\n",
            "epoch 90, loss = 1168.736 and val_loss = 1172.9622\n",
            "epoch 100, loss = 1092.8215 and val_loss = 1097.3952\n",
            "epoch 110, loss = 1035.4592 and val_loss = 1039.801\n",
            "epoch 120, loss = 991.9469 and val_loss = 996.2322\n",
            "epoch 130, loss = 958.3775 and val_loss = 962.5616\n",
            "epoch 140, loss = 931.0064 and val_loss = 934.7886\n",
            "epoch 150, loss = 909.0715 and val_loss = 912.6727\n",
            "epoch 160, loss = 891.5319 and val_loss = 894.8995\n",
            "epoch 170, loss = 877.5845 and val_loss = 880.7051\n",
            "epoch 180, loss = 866.4824 and val_loss = 869.3016\n",
            "epoch 190, loss = 857.4885 and val_loss = 859.9947\n",
            "epoch 200, loss = 850.0176 and val_loss = 852.2345\n",
            "epoch 210, loss = 843.6339 and val_loss = 845.595\n",
            "epoch 220, loss = 837.9849 and val_loss = 839.7567\n",
            "epoch 230, loss = 832.8612 and val_loss = 834.5208\n",
            "epoch 240, loss = 828.1749 and val_loss = 829.7537\n",
            "epoch 250, loss = 823.8328 and val_loss = 825.3924\n",
            "epoch 260, loss = 819.7783 and val_loss = 821.3887\n",
            "epoch 270, loss = 815.973 and val_loss = 817.6772\n",
            "epoch 280, loss = 812.3874 and val_loss = 814.2378\n",
            "epoch 290, loss = 809.0018 and val_loss = 811.0087\n",
            "epoch 300, loss = 805.796 and val_loss = 807.9584\n",
            "epoch 310, loss = 802.7625 and val_loss = 805.074\n",
            "epoch 320, loss = 799.8843 and val_loss = 802.3319\n",
            "epoch 330, loss = 797.1255 and val_loss = 799.6747\n",
            "epoch 340, loss = 794.4341 and val_loss = 797.1334\n",
            "epoch 350, loss = 791.7856 and val_loss = 794.6319\n",
            "epoch 360, loss = 789.2065 and val_loss = 792.1934\n",
            "epoch 370, loss = 786.6738 and val_loss = 789.796\n",
            "epoch 380, loss = 784.2012 and val_loss = 787.4528\n",
            "epoch 390, loss = 781.8231 and val_loss = 785.2111\n",
            "epoch 400, loss = 779.4299 and val_loss = 782.9558\n",
            "epoch 410, loss = 776.9963 and val_loss = 780.681\n",
            "epoch 420, loss = 774.5641 and val_loss = 778.3835\n",
            "epoch 430, loss = 772.21 and val_loss = 776.125\n",
            "epoch 440, loss = 769.9212 and val_loss = 773.9612\n",
            "epoch 450, loss = 767.6287 and val_loss = 771.8417\n",
            "epoch 460, loss = 765.3161 and val_loss = 769.6788\n",
            "epoch 470, loss = 762.9584 and val_loss = 767.4444\n",
            "epoch 480, loss = 760.5522 and val_loss = 765.1601\n",
            "epoch 490, loss = 758.0723 and val_loss = 762.7529\n",
            "CPU times: user 1min 41s, sys: 27.7 s, total: 2min 9s\n",
            "Wall time: 2min 9s\n"
          ]
        }
      ]
    },
    {
      "cell_type": "markdown",
      "source": [
        "We will evaluate the model by visualizing the model's history."
      ],
      "metadata": {
        "id": "PGygQ2RWZH48"
      }
    },
    {
      "cell_type": "code",
      "source": [
        "#importing library\n",
        "import matplotlib.pyplot as plt\n",
        "import seaborn as sns\n",
        "\n",
        "#converting the train and validation loss to a df\n",
        "trainhist = pd.DataFrame({'train_loss': train_loss, 'val_loss': valadition_loss, 'epoch':np.arange(num_epochs)})\n",
        "#plotting training loss\n",
        "sns.lineplot(x='epoch', y ='train_loss', data =trainhist)\n",
        "#plotting validation loss\n",
        "sns.lineplot(x='epoch', y ='val_loss', data =trainhist)\n",
        "#adding legends\n",
        "plt.legend(labels=['train_loss', 'val_loss'])"
      ],
      "metadata": {
        "colab": {
          "base_uri": "https://localhost:8080/",
          "height": 467
        },
        "id": "mzqV2TnQZOKv",
        "outputId": "3e26f3cd-9a96-4e21-f957-a2f4e6f3c0f3"
      },
      "execution_count": null,
      "outputs": [
        {
          "output_type": "execute_result",
          "data": {
            "text/plain": [
              "<matplotlib.legend.Legend at 0x7fc1b5e6b3a0>"
            ]
          },
          "metadata": {},
          "execution_count": 22
        },
        {
          "output_type": "display_data",
          "data": {
            "text/plain": [
              "<Figure size 640x480 with 1 Axes>"
            ],
            "image/png": "[encoded data removed]"
          },
          "metadata": {}
        }
      ]
    },
    {
      "cell_type": "markdown",
      "source": [
        "From the graph we can see that...\n",
        "+ There is not a huge gap between the training and validation loss.\n",
        "+ The training and validation loss decreased and then became constant as the number of epochs increased.\n",
        "It appears that the model is not underfitting nor overfitting.\n",
        "\n",
        "Let's also look at the MSE for this model."
      ],
      "metadata": {
        "id": "r_EwGvYkZyPE"
      }
    },
    {
      "cell_type": "code",
      "source": [
        "#calculating MSE for model\n",
        "y_pred = model(X_test).detach().numpy()\n",
        "print(f'MSE: {round(mean_squared_error(y_test,y_pred),4)}')"
      ],
      "metadata": {
        "colab": {
          "base_uri": "https://localhost:8080/"
        },
        "id": "iYmaSVVHcd8G",
        "outputId": "ab10825c-ed54-48d1-c2cf-121da5786a09"
      },
      "execution_count": null,
      "outputs": [
        {
          "output_type": "stream",
          "name": "stdout",
          "text": [
            "MSE: 760.4901\n"
          ]
        }
      ]
    },
    {
      "cell_type": "markdown",
      "source": [
        "##8.Can you improve the model performance by adding more layers and using dropout? Please justify your answer by providing the codes and model outputs."
      ],
      "metadata": {
        "id": "ANEihLOa5BtF"
      }
    },
    {
      "cell_type": "markdown",
      "source": [
        "Our model is neither under-fitting nor over-fitting but let's see if adding more layers and using drop out can improve the model's performance even further. Our new model will be built with the following layers using PyTorch:\n",
        "* First Hidden Layer: 20 Neurons\n",
        "* First Droupout Layer Rate: 0.3\n",
        "* Second Hidden Layer: 10 Neurons\n",
        "* Second Droupout Layer Rate: 0.3\n",
        "* Third Hidden Layer: 5 Neurons\n",
        "* Output Layer: 1 Neuron"
      ],
      "metadata": {
        "id": "OE78nx2mc4BZ"
      }
    },
    {
      "cell_type": "code",
      "source": [
        "#defining new model class with more layers and using drop out to model\n",
        "class LinearRegressionModel(torch.nn.Module):\n",
        "  #creating the neural network layers function\n",
        "  def __init__(self, input_size,  hidden_size, output_size, droprate):\n",
        "    #initializing the model\n",
        "    super(LinearRegressionModel, self).__init__()\n",
        "    #creating hidden layer 1\n",
        "    self.hidden1 = torch.nn.Linear(input_size, hidden_size[0]) \n",
        "    #adding drop out for hidden layer 1\n",
        "    self.hidden1_drop = nn.Dropout(droprate) \n",
        "    #creating hidden layer 2\n",
        "    self.hidden2 = torch.nn.Linear(hidden_size[0], hidden_size[1])\n",
        "    #adding drop out for hidden layer 2\n",
        "    self.hidden2_drop = nn.Dropout(droprate) \n",
        "    #creating hidden layer 3\n",
        "    self.hidden3 = torch.nn.Linear(hidden_size[1], hidden_size[2]) \n",
        "    #creating output layer\n",
        "    self.predict = torch.nn.Linear(hidden_size[2], output_size) \n",
        "  #creating the forward function\n",
        "  def forward(self, x):\n",
        "    x = F.relu(self.hidden1_drop(self.hidden1(x))) \n",
        "    x = F.relu(self.hidden2_drop(self.hidden2(x))) \n",
        "    x = F.relu(self.hidden3(x))\n",
        "    y_pred = self.predict(x)            \n",
        "    return y_pred\n",
        "\n",
        "#since we will have three hidden layers, we need to specify the number of neurons in each layer\n",
        "hidden_size = [20, 10, 5]\n",
        "\n",
        "#we are also adding a drop out layer, so let's specify the rate\n",
        "droprate = 0.3\n",
        "#creating model object w/drop out parameter\n",
        "model = LinearRegressionModel(input_size, hidden_size, output_size, droprate)\n",
        "\n",
        "#specifying the loss function -- MSE\n",
        "l = nn.MSELoss()\n",
        "\n",
        "#specifying the optimization algorithm -- Adam\n",
        "optimizer = torch.optim.Adam(model.parameters(), lr=0.05)"
      ],
      "metadata": {
        "id": "fsMpwIGIe0fg"
      },
      "execution_count": null,
      "outputs": []
    },
    {
      "cell_type": "markdown",
      "source": [
        "Now, let's train the new model."
      ],
      "metadata": {
        "id": "r9qwPydNjn79"
      }
    },
    {
      "cell_type": "code",
      "source": [
        "%%time\n",
        "#setting the number of epochs\n",
        "num_epochs = 500\n",
        "\n",
        "#tracking the training and validation loss\n",
        "train_loss = [None]*num_epochs\n",
        "valadition_loss = [None]*num_epochs\n",
        "\n",
        "#looping over the epochs\n",
        "for epoch in range(num_epochs):\n",
        "  #forward pass using the model class we created earlier and the training dataset\n",
        "  y_pred = model(X_train.requires_grad_())\n",
        "  #calculating the loss \n",
        "  loss= l(y_pred, y_train)\n",
        "  #setting the gradients of the Adam optimizer to equal zero\n",
        "  optimizer.zero_grad()\n",
        "  #backward pass\n",
        "  loss.backward()\n",
        "  #updating the weights using the optimizer, gradients, and current weights\n",
        "  optimizer.step()\n",
        "  #forecasting based on X_test\n",
        "  y_pred = model(X_test).detach().numpy()\n",
        "  #calculating validation loss using MSE\n",
        "  val_loss = mean_squared_error(y_test,y_pred)\n",
        "  #saving the loss history\n",
        "  train_loss[epoch] = loss.item()\n",
        "  valadition_loss[epoch] = val_loss\n",
        "  #printing out loss every 10 losses\n",
        "  if epoch % 10 == 0:\n",
        "    print(f'epoch {epoch}, loss = {round(loss.item(), 4)} and val_loss = {round(val_loss,4)}')\n",
        "\n"
      ],
      "metadata": {
        "colab": {
          "base_uri": "https://localhost:8080/"
        },
        "id": "UjI3trqFdAQc",
        "outputId": "c933ddbf-42f1-4c85-86a0-2c48b08f14d7"
      },
      "execution_count": null,
      "outputs": [
        {
          "output_type": "stream",
          "name": "stdout",
          "text": [
            "epoch 0, loss = 12973.083 and val_loss = 12844.2597\n",
            "epoch 10, loss = 8419.124 and val_loss = 7474.3991\n",
            "epoch 20, loss = 6281.2085 and val_loss = 6125.2864\n",
            "epoch 30, loss = 5555.6504 and val_loss = 5426.4131\n",
            "epoch 40, loss = 3906.0842 and val_loss = 3798.5542\n",
            "epoch 50, loss = 2694.1013 and val_loss = 2690.9308\n",
            "epoch 60, loss = 2373.7632 and val_loss = 2350.6908\n",
            "epoch 70, loss = 2177.0911 and val_loss = 2162.2866\n",
            "epoch 80, loss = 2082.3025 and val_loss = 2085.8265\n",
            "epoch 90, loss = 1989.674 and val_loss = 1997.9188\n",
            "epoch 100, loss = 1909.363 and val_loss = 1895.9225\n",
            "epoch 110, loss = 1844.6781 and val_loss = 1845.3921\n",
            "epoch 120, loss = 1772.4004 and val_loss = 1768.3872\n",
            "epoch 130, loss = 1711.7041 and val_loss = 1708.9893\n",
            "epoch 140, loss = 1648.0635 and val_loss = 1629.1353\n",
            "epoch 150, loss = 1577.7266 and val_loss = 1557.4266\n",
            "epoch 160, loss = 1498.8463 and val_loss = 1502.6985\n",
            "epoch 170, loss = 1426.6049 and val_loss = 1434.4281\n",
            "epoch 180, loss = 1399.0682 and val_loss = 1383.7912\n",
            "epoch 190, loss = 1385.5093 and val_loss = 1377.706\n",
            "epoch 200, loss = 1361.1095 and val_loss = 1356.0754\n",
            "epoch 210, loss = 1355.6182 and val_loss = 1357.0055\n",
            "epoch 220, loss = 1353.5046 and val_loss = 1328.33\n",
            "epoch 230, loss = 1342.3641 and val_loss = 1337.3135\n",
            "epoch 240, loss = 1336.2104 and val_loss = 1339.8118\n",
            "epoch 250, loss = 1328.9185 and val_loss = 1310.7624\n",
            "epoch 260, loss = 1318.2518 and val_loss = 1320.0304\n",
            "epoch 270, loss = 1315.851 and val_loss = 1317.1052\n",
            "epoch 280, loss = 1305.5834 and val_loss = 1311.5642\n",
            "epoch 290, loss = 1301.6919 and val_loss = 1324.7698\n",
            "epoch 300, loss = 1304.9011 and val_loss = 1306.4693\n",
            "epoch 310, loss = 1298.0413 and val_loss = 1279.182\n",
            "epoch 320, loss = 1297.7698 and val_loss = 1272.5598\n",
            "epoch 330, loss = 1283.9823 and val_loss = 1307.8186\n",
            "epoch 340, loss = 1278.7822 and val_loss = 1291.6811\n",
            "epoch 350, loss = 1296.9386 and val_loss = 1276.8077\n",
            "epoch 360, loss = 1285.5172 and val_loss = 1299.7626\n",
            "epoch 370, loss = 1283.049 and val_loss = 1291.4322\n",
            "epoch 380, loss = 1281.7375 and val_loss = 1294.6872\n",
            "epoch 390, loss = 1287.1338 and val_loss = 1293.0955\n",
            "epoch 400, loss = 1282.0988 and val_loss = 1295.6985\n",
            "epoch 410, loss = 1273.7151 and val_loss = 1274.7993\n",
            "epoch 420, loss = 1277.6559 and val_loss = 1285.615\n",
            "epoch 430, loss = 1274.4524 and val_loss = 1277.9155\n",
            "epoch 440, loss = 1275.1445 and val_loss = 1278.0933\n",
            "epoch 450, loss = 1276.2334 and val_loss = 1289.7457\n",
            "epoch 460, loss = 1276.6429 and val_loss = 1269.6375\n",
            "epoch 470, loss = 1271.5747 and val_loss = 1262.5288\n",
            "epoch 480, loss = 1277.9512 and val_loss = 1298.6102\n",
            "epoch 490, loss = 1294.8265 and val_loss = 1292.702\n",
            "CPU times: user 2min 22s, sys: 27.6 s, total: 2min 50s\n",
            "Wall time: 2min 51s\n"
          ]
        }
      ]
    },
    {
      "cell_type": "markdown",
      "source": [
        "Let's evaluate the model by looking at the model's history."
      ],
      "metadata": {
        "id": "TL3FmPIfjsZZ"
      }
    },
    {
      "cell_type": "code",
      "source": [
        "#converting the train and validation loss to a df\n",
        "trainhist = pd.DataFrame({'train_loss': train_loss, 'val_loss': valadition_loss, 'epoch':np.arange(num_epochs)})\n",
        "#plotting training loss\n",
        "sns.lineplot(x='epoch', y ='train_loss', data =trainhist)\n",
        "#plotting validation loss\n",
        "sns.lineplot(x='epoch', y ='val_loss', data =trainhist)\n",
        "#adding legends\n",
        "plt.legend(labels=['train_loss', 'val_loss'])"
      ],
      "metadata": {
        "colab": {
          "base_uri": "https://localhost:8080/",
          "height": 467
        },
        "id": "-X0Pd7mWjvJp",
        "outputId": "47d74120-cb7a-4f57-dd0e-a88143061ac6"
      },
      "execution_count": null,
      "outputs": [
        {
          "output_type": "execute_result",
          "data": {
            "text/plain": [
              "<matplotlib.legend.Legend at 0x7fc1b5d958b0>"
            ]
          },
          "metadata": {},
          "execution_count": 26
        },
        {
          "output_type": "display_data",
          "data": {
            "text/plain": [
              "<Figure size 640x480 with 1 Axes>"
            ],
            "image/png": "[encoded data removed]"
          },
          "metadata": {}
        }
      ]
    },
    {
      "cell_type": "markdown",
      "source": [
        "Looking at the graph, we can see that...\n",
        "+ There is not a huge gap between the training and validation loss.\n",
        "+ The training and validation loss decreased and then become constant as the number of epochs increased.\n",
        "It appears that the model is not underfitting nor overfitting.\n",
        "\n",
        "If we compared the first graph to the second graph, we can see that they look similar, so let's look at the model's MSE to determine which model is better."
      ],
      "metadata": {
        "id": "ECzFgYkVjy4w"
      }
    },
    {
      "cell_type": "code",
      "source": [
        "#calculating MSE for model\n",
        "y_pred = model(X_test).detach().numpy()\n",
        "print(f'MSE: {round(mean_squared_error(y_test,y_pred),4)}')"
      ],
      "metadata": {
        "colab": {
          "base_uri": "https://localhost:8080/"
        },
        "id": "pmPOW3Wkj2-c",
        "outputId": "f0827178-a5c5-423b-9304-79efc6442859"
      },
      "execution_count": null,
      "outputs": [
        {
          "output_type": "stream",
          "name": "stdout",
          "text": [
            "MSE: 1268.8423\n"
          ]
        }
      ]
    },
    {
      "cell_type": "markdown",
      "source": [
        "Both models fit the data decently because they neither underfit nor overfit the data. The MSE of the first model (MSE=760.4901) is less than the MSE of the second model (MSE=1268.8423), so we would recommend company to use the second model to forecast PM2.5."
      ],
      "metadata": {
        "id": "-wpOeZ6Bk_qy"
      }
    }
  ]
}
